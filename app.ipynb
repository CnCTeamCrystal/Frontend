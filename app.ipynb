{
 "cells": [
  {
   "cell_type": "code",
   "execution_count": null,
   "metadata": {
    "scrolled": true
   },
   "outputs": [
    {
     "name": "stderr",
     "output_type": "stream",
     "text": [
      " * Running on http://0.0.0.0:7070/ (Press CTRL+C to quit)\n",
      "211.45.60.5 - - [07/Feb/2018 05:17:44] \"GET / HTTP/1.1\" 200 -\n",
      "211.45.60.5 - - [07/Feb/2018 05:17:44] \"GET /static/css/bootstrap.css HTTP/1.1\" 200 -\n",
      "211.45.60.5 - - [07/Feb/2018 05:17:44] \"GET /static/js/bootstrap.js HTTP/1.1\" 200 -\n",
      "211.45.60.5 - - [07/Feb/2018 05:17:44] \"GET /static/js_min/chart.js HTTP/1.1\" 200 -\n",
      "211.45.60.5 - - [07/Feb/2018 05:17:57] \"GET /static/css/bootstrap.css.map HTTP/1.1\" 404 -\n",
      "211.45.60.5 - - [07/Feb/2018 05:25:31] \"GET / HTTP/1.1\" 200 -\n"
     ]
    }
   ],
   "source": [
    "from flask import Flask, render_template\n",
    "\n",
    "app = Flask(__name__)\n",
    "@app.route('/',methods=['GET'])\n",
    "def web():\n",
    "    return render_template('chartAnalysis.html')\n",
    "    \n",
    "if __name__=='__main__':\n",
    "    app.run(host='0.0.0.0' , port=7070)"
   ]
  },
  {
   "cell_type": "code",
   "execution_count": null,
   "metadata": {},
   "outputs": [],
   "source": []
  }
 ],
 "metadata": {
  "kernelspec": {
   "display_name": "Python 2",
   "language": "python",
   "name": "python2"
  },
  "language_info": {
   "codemirror_mode": {
    "name": "ipython",
    "version": 2
   },
   "file_extension": ".py",
   "mimetype": "text/x-python",
   "name": "python",
   "nbconvert_exporter": "python",
   "pygments_lexer": "ipython2",
   "version": "2.7.12"
  }
 },
 "nbformat": 4,
 "nbformat_minor": 2
}
